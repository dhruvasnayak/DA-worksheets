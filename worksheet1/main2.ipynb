{
 "cells": [
  {
   "cell_type": "code",
   "execution_count": 2,
   "id": "f4c681b5",
   "metadata": {},
   "outputs": [],
   "source": [
    "import numpy as np\n",
    "import pandas as pd;\n",
    "import matplotlib.pyplot as plt\n"
   ]
  },
  {
   "cell_type": "code",
   "execution_count": 3,
   "id": "4a356df3",
   "metadata": {},
   "outputs": [],
   "source": [
    "# problem 1\n",
    "df = pd.read_csv('movie_dataset.csv')"
   ]
  },
  {
   "cell_type": "code",
   "execution_count": 4,
   "id": "9238bda0",
   "metadata": {},
   "outputs": [
    {
     "data": {
      "text/html": [
       "<div>\n",
       "<style scoped>\n",
       "    .dataframe tbody tr th:only-of-type {\n",
       "        vertical-align: middle;\n",
       "    }\n",
       "\n",
       "    .dataframe tbody tr th {\n",
       "        vertical-align: top;\n",
       "    }\n",
       "\n",
       "    .dataframe thead th {\n",
       "        text-align: right;\n",
       "    }\n",
       "</style>\n",
       "<table border=\"1\" class=\"dataframe\">\n",
       "  <thead>\n",
       "    <tr style=\"text-align: right;\">\n",
       "      <th></th>\n",
       "      <th>budget</th>\n",
       "      <th>id</th>\n",
       "      <th>popularity</th>\n",
       "      <th>revenue</th>\n",
       "      <th>runtime</th>\n",
       "      <th>vote_average</th>\n",
       "      <th>vote_count</th>\n",
       "    </tr>\n",
       "  </thead>\n",
       "  <tbody>\n",
       "    <tr>\n",
       "      <th>count</th>\n",
       "      <td>4.041000e+03</td>\n",
       "      <td>4041.000000</td>\n",
       "      <td>4041.000000</td>\n",
       "      <td>4.041000e+03</td>\n",
       "      <td>4041.000000</td>\n",
       "      <td>4041.000000</td>\n",
       "      <td>4041.000000</td>\n",
       "    </tr>\n",
       "    <tr>\n",
       "      <th>mean</th>\n",
       "      <td>3.285372e+07</td>\n",
       "      <td>57982.927988</td>\n",
       "      <td>23.492294</td>\n",
       "      <td>9.695165e+07</td>\n",
       "      <td>107.493442</td>\n",
       "      <td>6.092551</td>\n",
       "      <td>784.679782</td>\n",
       "    </tr>\n",
       "    <tr>\n",
       "      <th>std</th>\n",
       "      <td>4.271586e+07</td>\n",
       "      <td>89651.272534</td>\n",
       "      <td>34.168782</td>\n",
       "      <td>1.734437e+08</td>\n",
       "      <td>23.434256</td>\n",
       "      <td>1.242561</td>\n",
       "      <td>1321.321087</td>\n",
       "    </tr>\n",
       "    <tr>\n",
       "      <th>min</th>\n",
       "      <td>0.000000e+00</td>\n",
       "      <td>5.000000</td>\n",
       "      <td>0.000000</td>\n",
       "      <td>0.000000e+00</td>\n",
       "      <td>0.000000</td>\n",
       "      <td>0.000000</td>\n",
       "      <td>0.000000</td>\n",
       "    </tr>\n",
       "    <tr>\n",
       "      <th>25%</th>\n",
       "      <td>3.000000e+06</td>\n",
       "      <td>8536.000000</td>\n",
       "      <td>3.674294</td>\n",
       "      <td>2.154540e+06</td>\n",
       "      <td>94.000000</td>\n",
       "      <td>5.600000</td>\n",
       "      <td>49.000000</td>\n",
       "    </tr>\n",
       "    <tr>\n",
       "      <th>50%</th>\n",
       "      <td>1.800000e+07</td>\n",
       "      <td>14914.000000</td>\n",
       "      <td>15.131867</td>\n",
       "      <td>3.264555e+07</td>\n",
       "      <td>104.000000</td>\n",
       "      <td>6.200000</td>\n",
       "      <td>299.000000</td>\n",
       "    </tr>\n",
       "    <tr>\n",
       "      <th>75%</th>\n",
       "      <td>4.500000e+07</td>\n",
       "      <td>60420.000000</td>\n",
       "      <td>31.893932</td>\n",
       "      <td>1.133741e+08</td>\n",
       "      <td>119.000000</td>\n",
       "      <td>6.800000</td>\n",
       "      <td>890.000000</td>\n",
       "    </tr>\n",
       "    <tr>\n",
       "      <th>max</th>\n",
       "      <td>3.800000e+08</td>\n",
       "      <td>459488.000000</td>\n",
       "      <td>875.581305</td>\n",
       "      <td>2.787965e+09</td>\n",
       "      <td>338.000000</td>\n",
       "      <td>10.000000</td>\n",
       "      <td>13752.000000</td>\n",
       "    </tr>\n",
       "  </tbody>\n",
       "</table>\n",
       "</div>"
      ],
      "text/plain": [
       "             budget             id   popularity       revenue      runtime  \\\n",
       "count  4.041000e+03    4041.000000  4041.000000  4.041000e+03  4041.000000   \n",
       "mean   3.285372e+07   57982.927988    23.492294  9.695165e+07   107.493442   \n",
       "std    4.271586e+07   89651.272534    34.168782  1.734437e+08    23.434256   \n",
       "min    0.000000e+00       5.000000     0.000000  0.000000e+00     0.000000   \n",
       "25%    3.000000e+06    8536.000000     3.674294  2.154540e+06    94.000000   \n",
       "50%    1.800000e+07   14914.000000    15.131867  3.264555e+07   104.000000   \n",
       "75%    4.500000e+07   60420.000000    31.893932  1.133741e+08   119.000000   \n",
       "max    3.800000e+08  459488.000000   875.581305  2.787965e+09   338.000000   \n",
       "\n",
       "       vote_average    vote_count  \n",
       "count   4041.000000   4041.000000  \n",
       "mean       6.092551    784.679782  \n",
       "std        1.242561   1321.321087  \n",
       "min        0.000000      0.000000  \n",
       "25%        5.600000     49.000000  \n",
       "50%        6.200000    299.000000  \n",
       "75%        6.800000    890.000000  \n",
       "max       10.000000  13752.000000  "
      ]
     },
     "execution_count": 4,
     "metadata": {},
     "output_type": "execute_result"
    }
   ],
   "source": [
    "df.describe()"
   ]
  },
  {
   "cell_type": "code",
   "execution_count": 5,
   "id": "f4d2b41d",
   "metadata": {},
   "outputs": [
    {
     "data": {
      "text/plain": [
       "budget               float64\n",
       "genres                object\n",
       "id                     int64\n",
       "original_language     object\n",
       "popularity           float64\n",
       "release_date          object\n",
       "revenue              float64\n",
       "runtime              float64\n",
       "title                 object\n",
       "vote_average         float64\n",
       "vote_count             int64\n",
       "director              object\n",
       "dtype: object"
      ]
     },
     "execution_count": 5,
     "metadata": {},
     "output_type": "execute_result"
    }
   ],
   "source": [
    "df.dtypes"
   ]
  },
  {
   "cell_type": "code",
   "execution_count": 6,
   "id": "65de2258",
   "metadata": {},
   "outputs": [
    {
     "data": {
      "text/plain": [
       "Drama                                             306\n",
       "Comedy                                            239\n",
       "Drama Romance                                     123\n",
       "Comedy Romance                                    123\n",
       "Comedy Drama                                      105\n",
       "                                                 ... \n",
       "Drama Adventure Action History                      1\n",
       "Adventure Fantasy Action Western Thriller           1\n",
       "Adventure Drama Romance Action                      1\n",
       "Action Adventure Comedy Family Science-Fiction      1\n",
       "Comedy Drama Romance TV-Movie                       1\n",
       "Name: genres, Length: 1045, dtype: int64"
      ]
     },
     "execution_count": 6,
     "metadata": {},
     "output_type": "execute_result"
    }
   ],
   "source": [
    "df['genres'].value_counts()"
   ]
  },
  {
   "cell_type": "code",
   "execution_count": 7,
   "id": "f6b67afe",
   "metadata": {},
   "outputs": [
    {
     "data": {
      "text/plain": [
       "budget               599\n",
       "genres                28\n",
       "id                     0\n",
       "original_language      0\n",
       "popularity             0\n",
       "release_date           1\n",
       "revenue                0\n",
       "runtime                0\n",
       "title                  0\n",
       "vote_average           0\n",
       "vote_count             0\n",
       "director              36\n",
       "dtype: int64"
      ]
     },
     "execution_count": 7,
     "metadata": {},
     "output_type": "execute_result"
    }
   ],
   "source": [
    "# problem 2\n",
    "df['budget'].replace(0,np.nan,inplace=True)\n",
    "df.isna().sum()"
   ]
  },
  {
   "cell_type": "code",
   "execution_count": 8,
   "id": "5a1df7a4",
   "metadata": {},
   "outputs": [
    {
     "data": {
      "text/plain": [
       "original_language  genres  title  director\n",
       "False              False   False  False       4041\n",
       "dtype: int64"
      ]
     },
     "execution_count": 8,
     "metadata": {},
     "output_type": "execute_result"
    }
   ],
   "source": [
    "empty = df[['original_language','genres','title','director']].apply(lambda x:x==\"\")\n",
    "empty.value_counts()"
   ]
  },
  {
   "cell_type": "code",
   "execution_count": 9,
   "id": "2e035117",
   "metadata": {},
   "outputs": [],
   "source": [
    "df['revenue'].fillna(df['revenue'].mean(), inplace=True)\n",
    "df['budget'].fillna(df['budget'].mean(), inplace=True)\n",
    "df['runtime'].fillna(df['runtime'].mean(), inplace=True)\n",
    "df.dropna(inplace=True)"
   ]
  },
  {
   "cell_type": "code",
   "execution_count": 10,
   "id": "97ccba99",
   "metadata": {},
   "outputs": [
    {
     "data": {
      "text/plain": [
       "budget               0\n",
       "genres               0\n",
       "id                   0\n",
       "original_language    0\n",
       "popularity           0\n",
       "release_date         0\n",
       "revenue              0\n",
       "runtime              0\n",
       "title                0\n",
       "vote_average         0\n",
       "vote_count           0\n",
       "director             0\n",
       "dtype: int64"
      ]
     },
     "execution_count": 10,
     "metadata": {},
     "output_type": "execute_result"
    }
   ],
   "source": [
    "df.isna().sum()"
   ]
  },
  {
   "cell_type": "code",
   "execution_count": 11,
   "id": "1bc39c55",
   "metadata": {},
   "outputs": [
    {
     "data": {
      "text/plain": [
       "2006    204\n",
       "2013    198\n",
       "2011    196\n",
       "2009    195\n",
       "2010    189\n",
       "       ... \n",
       "1935      1\n",
       "1927      1\n",
       "1916      1\n",
       "1934      1\n",
       "1925      1\n",
       "Name: year, Length: 90, dtype: int64"
      ]
     },
     "execution_count": 11,
     "metadata": {},
     "output_type": "execute_result"
    }
   ],
   "source": [
    "# problem 3\n",
    "df['year'] = df['release_date'].apply(lambda x:x.split('-',2)[2])\n",
    "df['year'].value_counts()"
   ]
  },
  {
   "cell_type": "code",
   "execution_count": 38,
   "id": "8ba99fa2",
   "metadata": {},
   "outputs": [
    {
     "data": {
      "image/png": "[encoded data removed]",
      "text/plain": [
       "<Figure size 640x480 with 1 Axes>"
      ]
     },
     "metadata": {},
     "output_type": "display_data"
    }
   ],
   "source": [
    "year_counts = df['year'].value_counts().sort_index()\n",
    "plt.bar(year_counts.index, year_counts.values)\n",
    "plt.xlabel('Year')\n",
    "plt.ylabel('Number of Movies')\n",
    "plt.title('Number of Movies vs Year of Release')\n",
    "plt.xticks(rotation=45)\n",
    "plt.show()\n",
    "\n"
   ]
  },
  {
   "cell_type": "code",
   "execution_count": 13,
   "id": "634ba2c9",
   "metadata": {},
   "outputs": [
    {
     "data": {
      "image/png": "[encoded data removed]",
      "text/plain": [
       "<Figure size 640x480 with 1 Axes>"
      ]
     },
     "metadata": {},
     "output_type": "display_data"
    }
   ],
   "source": [
    "plt.xlabel(\"runtime\")\n",
    "plt.title(\"BOX PLOT\")\n",
    "plt.boxplot(df['runtime'],vert=False)\n",
    "plt.show()"
   ]
  },
  {
   "cell_type": "code",
   "execution_count": 17,
   "id": "348aef63",
   "metadata": {},
   "outputs": [
    {
     "data": {
      "text/plain": [
       "0       11.763566\n",
       "1        3.203333\n",
       "2        3.594590\n",
       "3        4.339756\n",
       "4        1.092843\n",
       "          ...    \n",
       "4035     0.000000\n",
       "4036     9.276909\n",
       "4037     0.000000\n",
       "4038     0.000000\n",
       "4040     0.000000\n",
       "Name: roi, Length: 3991, dtype: float64"
      ]
     },
     "execution_count": 17,
     "metadata": {},
     "output_type": "execute_result"
    }
   ],
   "source": [
    "#problem 5\n",
    "df['roi'] = df['revenue']/df['budget']\n",
    "df['roi']"
   ]
  },
  {
   "cell_type": "code",
   "execution_count": 23,
   "id": "0d354d6a",
   "metadata": {},
   "outputs": [
    {
     "data": {
      "text/plain": [
       "17    Pirates of the Caribbean: On Stranger Tides\n",
       "1        Pirates of the Caribbean: At World's End\n",
       "7                         Avengers: Age of Ultron\n",
       "10                               Superman Returns\n",
       "4                                     John Carter\n",
       "6                                         Tangled\n",
       "5                                    Spider-Man 3\n",
       "13                                The Lone Ranger\n",
       "46                     X-Men: Days of Future Past\n",
       "22            The Hobbit: The Desolation of Smaug\n",
       "98              The Hobbit: An Unexpected Journey\n",
       "26                     Captain America: Civil War\n",
       "9              Batman v Superman: Dawn of Justice\n",
       "19      The Hobbit: The Battle of the Five Armies\n",
       "8          Harry Potter and the Half-Blood Prince\n",
       "3                           The Dark Knight Rises\n",
       "2                                         Spectre\n",
       "0                                          Avatar\n",
       "18                                 Men in Black 3\n",
       "14                                   Man of Steel\n",
       "Name: title, dtype: object"
      ]
     },
     "execution_count": 23,
     "metadata": {},
     "output_type": "execute_result"
    }
   ],
   "source": [
    "df_sorted_bybudget = df.sort_values(by='budget', ascending=False)\n",
    "df_sorted_bybudget['title'].head(20)"
   ]
  },
  {
   "cell_type": "code",
   "execution_count": 24,
   "id": "5eb589bf",
   "metadata": {},
   "outputs": [
    {
     "data": {
      "text/plain": [
       "0                                             Avatar\n",
       "25                                           Titanic\n",
       "16                                      The Avengers\n",
       "44                                         Furious 7\n",
       "7                            Avengers: Age of Ultron\n",
       "124                                           Frozen\n",
       "31                                        Iron Man 3\n",
       "529                                          Minions\n",
       "26                        Captain America: Civil War\n",
       "52                    Transformers: Dark of the Moon\n",
       "325    The Lord of the Rings: The Return of the King\n",
       "29                                           Skyfall\n",
       "36                   Transformers: Age of Extinction\n",
       "3                              The Dark Knight Rises\n",
       "42                                       Toy Story 3\n",
       "12        Pirates of the Caribbean: Dead Man's Chest\n",
       "17       Pirates of the Caribbean: On Stranger Tides\n",
       "32                               Alice in Wonderland\n",
       "98                 The Hobbit: An Unexpected Journey\n",
       "65                                   The Dark Knight\n",
       "Name: title, dtype: object"
      ]
     },
     "execution_count": 24,
     "metadata": {},
     "output_type": "execute_result"
    }
   ],
   "source": [
    "df_sorted_revenue = df.sort_values(by='revenue', ascending=False)\n",
    "df_sorted_revenue['title'].head(20)"
   ]
  },
  {
   "cell_type": "code",
   "execution_count": 25,
   "id": "6a18b988",
   "metadata": {},
   "outputs": [
    {
     "data": {
      "text/plain": [
       "3560                       Modern Times\n",
       "2696                          Nurse 3-D\n",
       "3840                Paranormal Activity\n",
       "3845                          Tarnation\n",
       "3767            The Blair Witch Project\n",
       "3969                         Eraserhead\n",
       "4026                     Pink Flamingos\n",
       "3983                      Super Size Me\n",
       "3968                        The Gallows\n",
       "3784                         Open Water\n",
       "2709       The Texas Chain Saw Massacre\n",
       "3721                              Bambi\n",
       "3920                   The Stewardesses\n",
       "3153           Night of the Living Dead\n",
       "3922                            Mad Max\n",
       "2131                          Halloween\n",
       "3742                  American Graffiti\n",
       "3951                               Once\n",
       "3579    Snow White and the Seven Dwarfs\n",
       "3636                              Rocky\n",
       "Name: title, dtype: object"
      ]
     },
     "execution_count": 25,
     "metadata": {},
     "output_type": "execute_result"
    }
   ],
   "source": [
    "df_sorted_roi = df.sort_values(by='roi', ascending=False)\n",
    "df_sorted_roi['title'].head(20)"
   ]
  },
  {
   "cell_type": "code",
   "execution_count": 26,
   "id": "9ad0ab1e",
   "metadata": {},
   "outputs": [
    {
     "data": {
      "text/html": [
       "<div>\n",
       "<style scoped>\n",
       "    .dataframe tbody tr th:only-of-type {\n",
       "        vertical-align: middle;\n",
       "    }\n",
       "\n",
       "    .dataframe tbody tr th {\n",
       "        vertical-align: top;\n",
       "    }\n",
       "\n",
       "    .dataframe thead th {\n",
       "        text-align: right;\n",
       "    }\n",
       "</style>\n",
       "<table border=\"1\" class=\"dataframe\">\n",
       "  <thead>\n",
       "    <tr style=\"text-align: right;\">\n",
       "      <th></th>\n",
       "      <th>budget</th>\n",
       "      <th>genres</th>\n",
       "      <th>id</th>\n",
       "      <th>original_language</th>\n",
       "      <th>popularity</th>\n",
       "      <th>release_date</th>\n",
       "      <th>revenue</th>\n",
       "      <th>runtime</th>\n",
       "      <th>title</th>\n",
       "      <th>vote_average</th>\n",
       "      <th>vote_count</th>\n",
       "      <th>director</th>\n",
       "      <th>year</th>\n",
       "      <th>roi</th>\n",
       "    </tr>\n",
       "  </thead>\n",
       "  <tbody>\n",
       "    <tr>\n",
       "      <th>0</th>\n",
       "      <td>237000000.0</td>\n",
       "      <td>Action Adventure Fantasy Science-Fiction</td>\n",
       "      <td>19995</td>\n",
       "      <td>en</td>\n",
       "      <td>150.437577</td>\n",
       "      <td>10-12-2009</td>\n",
       "      <td>2.787965e+09</td>\n",
       "      <td>162.0</td>\n",
       "      <td>Avatar</td>\n",
       "      <td>7.2</td>\n",
       "      <td>11800</td>\n",
       "      <td>James Cameron</td>\n",
       "      <td>2009</td>\n",
       "      <td>11.763566</td>\n",
       "    </tr>\n",
       "    <tr>\n",
       "      <th>1</th>\n",
       "      <td>300000000.0</td>\n",
       "      <td>Adventure Fantasy Action</td>\n",
       "      <td>285</td>\n",
       "      <td>en</td>\n",
       "      <td>139.082615</td>\n",
       "      <td>19-05-2007</td>\n",
       "      <td>9.610000e+08</td>\n",
       "      <td>169.0</td>\n",
       "      <td>Pirates of the Caribbean: At World's End</td>\n",
       "      <td>6.9</td>\n",
       "      <td>4500</td>\n",
       "      <td>Gore Verbinski</td>\n",
       "      <td>2007</td>\n",
       "      <td>3.203333</td>\n",
       "    </tr>\n",
       "    <tr>\n",
       "      <th>2</th>\n",
       "      <td>245000000.0</td>\n",
       "      <td>Action Adventure Crime</td>\n",
       "      <td>206647</td>\n",
       "      <td>en</td>\n",
       "      <td>107.376788</td>\n",
       "      <td>26-10-2015</td>\n",
       "      <td>8.806746e+08</td>\n",
       "      <td>148.0</td>\n",
       "      <td>Spectre</td>\n",
       "      <td>6.3</td>\n",
       "      <td>4466</td>\n",
       "      <td>Sam Mendes</td>\n",
       "      <td>2015</td>\n",
       "      <td>3.594590</td>\n",
       "    </tr>\n",
       "    <tr>\n",
       "      <th>3</th>\n",
       "      <td>250000000.0</td>\n",
       "      <td>Action Crime Drama Thriller</td>\n",
       "      <td>49026</td>\n",
       "      <td>en</td>\n",
       "      <td>112.312950</td>\n",
       "      <td>16-07-2012</td>\n",
       "      <td>1.084939e+09</td>\n",
       "      <td>165.0</td>\n",
       "      <td>The Dark Knight Rises</td>\n",
       "      <td>7.6</td>\n",
       "      <td>9106</td>\n",
       "      <td>Christopher Nolan</td>\n",
       "      <td>2012</td>\n",
       "      <td>4.339756</td>\n",
       "    </tr>\n",
       "    <tr>\n",
       "      <th>4</th>\n",
       "      <td>260000000.0</td>\n",
       "      <td>Action Adventure Science-Fiction</td>\n",
       "      <td>49529</td>\n",
       "      <td>en</td>\n",
       "      <td>43.926995</td>\n",
       "      <td>07-03-2012</td>\n",
       "      <td>2.841391e+08</td>\n",
       "      <td>132.0</td>\n",
       "      <td>John Carter</td>\n",
       "      <td>6.1</td>\n",
       "      <td>2124</td>\n",
       "      <td>Andrew Stanton</td>\n",
       "      <td>2012</td>\n",
       "      <td>1.092843</td>\n",
       "    </tr>\n",
       "  </tbody>\n",
       "</table>\n",
       "</div>"
      ],
      "text/plain": [
       "        budget                                    genres      id  \\\n",
       "0  237000000.0  Action Adventure Fantasy Science-Fiction   19995   \n",
       "1  300000000.0                  Adventure Fantasy Action     285   \n",
       "2  245000000.0                    Action Adventure Crime  206647   \n",
       "3  250000000.0               Action Crime Drama Thriller   49026   \n",
       "4  260000000.0          Action Adventure Science-Fiction   49529   \n",
       "\n",
       "  original_language  popularity release_date       revenue  runtime  \\\n",
       "0                en  150.437577   10-12-2009  2.787965e+09    162.0   \n",
       "1                en  139.082615   19-05-2007  9.610000e+08    169.0   \n",
       "2                en  107.376788   26-10-2015  8.806746e+08    148.0   \n",
       "3                en  112.312950   16-07-2012  1.084939e+09    165.0   \n",
       "4                en   43.926995   07-03-2012  2.841391e+08    132.0   \n",
       "\n",
       "                                      title  vote_average  vote_count  \\\n",
       "0                                    Avatar           7.2       11800   \n",
       "1  Pirates of the Caribbean: At World's End           6.9        4500   \n",
       "2                                   Spectre           6.3        4466   \n",
       "3                     The Dark Knight Rises           7.6        9106   \n",
       "4                               John Carter           6.1        2124   \n",
       "\n",
       "            director  year        roi  \n",
       "0      James Cameron  2009  11.763566  \n",
       "1     Gore Verbinski  2007   3.203333  \n",
       "2         Sam Mendes  2015   3.594590  \n",
       "3  Christopher Nolan  2012   4.339756  \n",
       "4     Andrew Stanton  2012   1.092843  "
      ]
     },
     "execution_count": 26,
     "metadata": {},
     "output_type": "execute_result"
    }
   ],
   "source": [
    "df.head()"
   ]
  },
  {
   "cell_type": "code",
   "execution_count": 34,
   "id": "4826c9ab",
   "metadata": {},
   "outputs": [
    {
     "data": {
      "text/plain": [
       "[<matplotlib.lines.Line2D at 0x2640d919000>]"
      ]
     },
     "execution_count": 34,
     "metadata": {},
     "output_type": "execute_result"
    },
    {
     "data": {
      "image/png": "[encoded data removed]",
      "text/plain": [
       "<Figure size 640x480 with 1 Axes>"
      ]
     },
     "metadata": {},
     "output_type": "display_data"
    }
   ],
   "source": [
    "#problem 6\n",
    "grouped_df = df.groupby('genres')['revenue'].sum().reset_index()\n",
    "plt.plot(grouped_df['genres'],grouped_df['revenue'])"
   ]
  },
  {
   "cell_type": "code",
   "execution_count": 36,
   "id": "394e8e99",
   "metadata": {},
   "outputs": [
    {
     "data": {
      "text/plain": [
       "[<matplotlib.lines.Line2D at 0x2640854e080>]"
      ]
     },
     "execution_count": 36,
     "metadata": {},
     "output_type": "execute_result"
    },
    {
     "data": {
      "image/png": "[encoded data removed]",
      "text/plain": [
       "<Figure size 640x480 with 1 Axes>"
      ]
     },
     "metadata": {},
     "output_type": "display_data"
    }
   ],
   "source": [
    "grouped_df = df.groupby('genres')['budget'].sum().reset_index()\n",
    "plt.plot(grouped_df['genres'],grouped_df['budget'])"
   ]
  },
  {
   "cell_type": "code",
   "execution_count": null,
   "id": "e9b090ef",
   "metadata": {},
   "outputs": [],
   "source": []
  },
  {
   "cell_type": "code",
   "execution_count": null,
   "id": "07ec7a52",
   "metadata": {},
   "outputs": [],
   "source": []
  },
  {
   "cell_type": "code",
   "execution_count": null,
   "id": "bee013eb",
   "metadata": {},
   "outputs": [],
   "source": []
  },
  {
   "cell_type": "code",
   "execution_count": null,
   "id": "97ab1d00",
   "metadata": {},
   "outputs": [],
   "source": []
  },
  {
   "cell_type": "code",
   "execution_count": null,
   "id": "9f4be5a5",
   "metadata": {},
   "outputs": [],
   "source": []
  },
  {
   "cell_type": "code",
   "execution_count": null,
   "id": "ac9c7c1e",
   "metadata": {},
   "outputs": [],
   "source": []
  },
  {
   "cell_type": "code",
   "execution_count": null,
   "id": "b43de252",
   "metadata": {},
   "outputs": [],
   "source": []
  },
  {
   "cell_type": "code",
   "execution_count": null,
   "id": "ea68e5c6",
   "metadata": {},
   "outputs": [],
   "source": []
  },
  {
   "cell_type": "code",
   "execution_count": null,
   "id": "032c0680",
   "metadata": {},
   "outputs": [],
   "source": []
  },
  {
   "cell_type": "code",
   "execution_count": null,
   "id": "b9356e32",
   "metadata": {},
   "outputs": [],
   "source": []
  }
 ],
 "metadata": {
  "kernelspec": {
   "display_name": "Python 3 (ipykernel)",
   "language": "python",
   "name": "python3"
  },
  "language_info": {
   "codemirror_mode": {
    "name": "ipython",
    "version": 3
   },
   "file_extension": ".py",
   "mimetype": "text/x-python",
   "name": "python",
   "nbconvert_exporter": "python",
   "pygments_lexer": "ipython3",
   "version": "3.10.2"
  }
 },
 "nbformat": 4,
 "nbformat_minor": 5
}
