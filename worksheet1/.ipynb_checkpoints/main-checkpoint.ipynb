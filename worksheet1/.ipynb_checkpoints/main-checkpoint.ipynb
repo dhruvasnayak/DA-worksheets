{
 "cells": [
  {
   "cell_type": "code",
   "execution_count": 1,
   "id": "e7a9151c",
   "metadata": {},
   "outputs": [],
   "source": [
    "import numpy as np\n",
    "import pandas as pd\n",
    "import matplotlib.pyplot as plt\n",
    "from collections import Counter"
   ]
  },
  {
   "cell_type": "code",
   "execution_count": 2,
   "id": "fd65df86",
   "metadata": {},
   "outputs": [],
   "source": [
    "df = pd.read_csv('movie_dataset.csv')"
   ]
  },
  {
   "cell_type": "code",
   "execution_count": 3,
   "id": "570288a8",
   "metadata": {},
   "outputs": [
    {
     "data": {
      "text/html": [
       "<div>\n",
       "<style scoped>\n",
       "    .dataframe tbody tr th:only-of-type {\n",
       "        vertical-align: middle;\n",
       "    }\n",
       "\n",
       "    .dataframe tbody tr th {\n",
       "        vertical-align: top;\n",
       "    }\n",
       "\n",
       "    .dataframe thead th {\n",
       "        text-align: right;\n",
       "    }\n",
       "</style>\n",
       "<table border=\"1\" class=\"dataframe\">\n",
       "  <thead>\n",
       "    <tr style=\"text-align: right;\">\n",
       "      <th></th>\n",
       "      <th>budget</th>\n",
       "      <th>genres</th>\n",
       "      <th>id</th>\n",
       "      <th>original_language</th>\n",
       "      <th>popularity</th>\n",
       "      <th>release_date</th>\n",
       "      <th>revenue</th>\n",
       "      <th>runtime</th>\n",
       "      <th>title</th>\n",
       "      <th>vote_average</th>\n",
       "      <th>vote_count</th>\n",
       "      <th>director</th>\n",
       "    </tr>\n",
       "  </thead>\n",
       "  <tbody>\n",
       "    <tr>\n",
       "      <th>0</th>\n",
       "      <td>237000000.0</td>\n",
       "      <td>Action Adventure Fantasy Science-Fiction</td>\n",
       "      <td>19995</td>\n",
       "      <td>en</td>\n",
       "      <td>150.437577</td>\n",
       "      <td>10-12-2009</td>\n",
       "      <td>2.787965e+09</td>\n",
       "      <td>162.0</td>\n",
       "      <td>Avatar</td>\n",
       "      <td>7.2</td>\n",
       "      <td>11800</td>\n",
       "      <td>James Cameron</td>\n",
       "    </tr>\n",
       "    <tr>\n",
       "      <th>1</th>\n",
       "      <td>300000000.0</td>\n",
       "      <td>Adventure Fantasy Action</td>\n",
       "      <td>285</td>\n",
       "      <td>en</td>\n",
       "      <td>139.082615</td>\n",
       "      <td>19-05-2007</td>\n",
       "      <td>9.610000e+08</td>\n",
       "      <td>169.0</td>\n",
       "      <td>Pirates of the Caribbean: At World's End</td>\n",
       "      <td>6.9</td>\n",
       "      <td>4500</td>\n",
       "      <td>Gore Verbinski</td>\n",
       "    </tr>\n",
       "    <tr>\n",
       "      <th>2</th>\n",
       "      <td>245000000.0</td>\n",
       "      <td>Action Adventure Crime</td>\n",
       "      <td>206647</td>\n",
       "      <td>en</td>\n",
       "      <td>107.376788</td>\n",
       "      <td>26-10-2015</td>\n",
       "      <td>8.806746e+08</td>\n",
       "      <td>148.0</td>\n",
       "      <td>Spectre</td>\n",
       "      <td>6.3</td>\n",
       "      <td>4466</td>\n",
       "      <td>Sam Mendes</td>\n",
       "    </tr>\n",
       "    <tr>\n",
       "      <th>3</th>\n",
       "      <td>250000000.0</td>\n",
       "      <td>Action Crime Drama Thriller</td>\n",
       "      <td>49026</td>\n",
       "      <td>en</td>\n",
       "      <td>112.312950</td>\n",
       "      <td>16-07-2012</td>\n",
       "      <td>1.084939e+09</td>\n",
       "      <td>165.0</td>\n",
       "      <td>The Dark Knight Rises</td>\n",
       "      <td>7.6</td>\n",
       "      <td>9106</td>\n",
       "      <td>Christopher Nolan</td>\n",
       "    </tr>\n",
       "    <tr>\n",
       "      <th>4</th>\n",
       "      <td>260000000.0</td>\n",
       "      <td>Action Adventure Science-Fiction</td>\n",
       "      <td>49529</td>\n",
       "      <td>en</td>\n",
       "      <td>43.926995</td>\n",
       "      <td>07-03-2012</td>\n",
       "      <td>2.841391e+08</td>\n",
       "      <td>132.0</td>\n",
       "      <td>John Carter</td>\n",
       "      <td>6.1</td>\n",
       "      <td>2124</td>\n",
       "      <td>Andrew Stanton</td>\n",
       "    </tr>\n",
       "  </tbody>\n",
       "</table>\n",
       "</div>"
      ],
      "text/plain": [
       "        budget                                    genres      id  \\\n",
       "0  237000000.0  Action Adventure Fantasy Science-Fiction   19995   \n",
       "1  300000000.0                  Adventure Fantasy Action     285   \n",
       "2  245000000.0                    Action Adventure Crime  206647   \n",
       "3  250000000.0               Action Crime Drama Thriller   49026   \n",
       "4  260000000.0          Action Adventure Science-Fiction   49529   \n",
       "\n",
       "  original_language  popularity release_date       revenue  runtime  \\\n",
       "0                en  150.437577   10-12-2009  2.787965e+09    162.0   \n",
       "1                en  139.082615   19-05-2007  9.610000e+08    169.0   \n",
       "2                en  107.376788   26-10-2015  8.806746e+08    148.0   \n",
       "3                en  112.312950   16-07-2012  1.084939e+09    165.0   \n",
       "4                en   43.926995   07-03-2012  2.841391e+08    132.0   \n",
       "\n",
       "                                      title  vote_average  vote_count  \\\n",
       "0                                    Avatar           7.2       11800   \n",
       "1  Pirates of the Caribbean: At World's End           6.9        4500   \n",
       "2                                   Spectre           6.3        4466   \n",
       "3                     The Dark Knight Rises           7.6        9106   \n",
       "4                               John Carter           6.1        2124   \n",
       "\n",
       "            director  \n",
       "0      James Cameron  \n",
       "1     Gore Verbinski  \n",
       "2         Sam Mendes  \n",
       "3  Christopher Nolan  \n",
       "4     Andrew Stanton  "
      ]
     },
     "execution_count": 3,
     "metadata": {},
     "output_type": "execute_result"
    }
   ],
   "source": [
    "df.head()"
   ]
  },
  {
   "cell_type": "code",
   "execution_count": 4,
   "id": "61a10bef",
   "metadata": {},
   "outputs": [
    {
     "data": {
      "text/html": [
       "<div>\n",
       "<style scoped>\n",
       "    .dataframe tbody tr th:only-of-type {\n",
       "        vertical-align: middle;\n",
       "    }\n",
       "\n",
       "    .dataframe tbody tr th {\n",
       "        vertical-align: top;\n",
       "    }\n",
       "\n",
       "    .dataframe thead th {\n",
       "        text-align: right;\n",
       "    }\n",
       "</style>\n",
       "<table border=\"1\" class=\"dataframe\">\n",
       "  <thead>\n",
       "    <tr style=\"text-align: right;\">\n",
       "      <th></th>\n",
       "      <th>budget</th>\n",
       "      <th>id</th>\n",
       "      <th>popularity</th>\n",
       "      <th>revenue</th>\n",
       "      <th>runtime</th>\n",
       "      <th>vote_average</th>\n",
       "      <th>vote_count</th>\n",
       "    </tr>\n",
       "  </thead>\n",
       "  <tbody>\n",
       "    <tr>\n",
       "      <th>count</th>\n",
       "      <td>4.041000e+03</td>\n",
       "      <td>4041.000000</td>\n",
       "      <td>4041.000000</td>\n",
       "      <td>4.041000e+03</td>\n",
       "      <td>4041.000000</td>\n",
       "      <td>4041.000000</td>\n",
       "      <td>4041.000000</td>\n",
       "    </tr>\n",
       "    <tr>\n",
       "      <th>mean</th>\n",
       "      <td>3.285372e+07</td>\n",
       "      <td>57982.927988</td>\n",
       "      <td>23.492294</td>\n",
       "      <td>9.695165e+07</td>\n",
       "      <td>107.493442</td>\n",
       "      <td>6.092551</td>\n",
       "      <td>784.679782</td>\n",
       "    </tr>\n",
       "    <tr>\n",
       "      <th>std</th>\n",
       "      <td>4.271586e+07</td>\n",
       "      <td>89651.272534</td>\n",
       "      <td>34.168782</td>\n",
       "      <td>1.734437e+08</td>\n",
       "      <td>23.434256</td>\n",
       "      <td>1.242561</td>\n",
       "      <td>1321.321087</td>\n",
       "    </tr>\n",
       "    <tr>\n",
       "      <th>min</th>\n",
       "      <td>0.000000e+00</td>\n",
       "      <td>5.000000</td>\n",
       "      <td>0.000000</td>\n",
       "      <td>0.000000e+00</td>\n",
       "      <td>0.000000</td>\n",
       "      <td>0.000000</td>\n",
       "      <td>0.000000</td>\n",
       "    </tr>\n",
       "    <tr>\n",
       "      <th>25%</th>\n",
       "      <td>3.000000e+06</td>\n",
       "      <td>8536.000000</td>\n",
       "      <td>3.674294</td>\n",
       "      <td>2.154540e+06</td>\n",
       "      <td>94.000000</td>\n",
       "      <td>5.600000</td>\n",
       "      <td>49.000000</td>\n",
       "    </tr>\n",
       "    <tr>\n",
       "      <th>50%</th>\n",
       "      <td>1.800000e+07</td>\n",
       "      <td>14914.000000</td>\n",
       "      <td>15.131867</td>\n",
       "      <td>3.264555e+07</td>\n",
       "      <td>104.000000</td>\n",
       "      <td>6.200000</td>\n",
       "      <td>299.000000</td>\n",
       "    </tr>\n",
       "    <tr>\n",
       "      <th>75%</th>\n",
       "      <td>4.500000e+07</td>\n",
       "      <td>60420.000000</td>\n",
       "      <td>31.893932</td>\n",
       "      <td>1.133741e+08</td>\n",
       "      <td>119.000000</td>\n",
       "      <td>6.800000</td>\n",
       "      <td>890.000000</td>\n",
       "    </tr>\n",
       "    <tr>\n",
       "      <th>max</th>\n",
       "      <td>3.800000e+08</td>\n",
       "      <td>459488.000000</td>\n",
       "      <td>875.581305</td>\n",
       "      <td>2.787965e+09</td>\n",
       "      <td>338.000000</td>\n",
       "      <td>10.000000</td>\n",
       "      <td>13752.000000</td>\n",
       "    </tr>\n",
       "  </tbody>\n",
       "</table>\n",
       "</div>"
      ],
      "text/plain": [
       "             budget             id   popularity       revenue      runtime  \\\n",
       "count  4.041000e+03    4041.000000  4041.000000  4.041000e+03  4041.000000   \n",
       "mean   3.285372e+07   57982.927988    23.492294  9.695165e+07   107.493442   \n",
       "std    4.271586e+07   89651.272534    34.168782  1.734437e+08    23.434256   \n",
       "min    0.000000e+00       5.000000     0.000000  0.000000e+00     0.000000   \n",
       "25%    3.000000e+06    8536.000000     3.674294  2.154540e+06    94.000000   \n",
       "50%    1.800000e+07   14914.000000    15.131867  3.264555e+07   104.000000   \n",
       "75%    4.500000e+07   60420.000000    31.893932  1.133741e+08   119.000000   \n",
       "max    3.800000e+08  459488.000000   875.581305  2.787965e+09   338.000000   \n",
       "\n",
       "       vote_average    vote_count  \n",
       "count   4041.000000   4041.000000  \n",
       "mean       6.092551    784.679782  \n",
       "std        1.242561   1321.321087  \n",
       "min        0.000000      0.000000  \n",
       "25%        5.600000     49.000000  \n",
       "50%        6.200000    299.000000  \n",
       "75%        6.800000    890.000000  \n",
       "max       10.000000  13752.000000  "
      ]
     },
     "execution_count": 4,
     "metadata": {},
     "output_type": "execute_result"
    }
   ],
   "source": [
    "df.describe()"
   ]
  },
  {
   "cell_type": "code",
   "execution_count": 5,
   "id": "190c0905",
   "metadata": {},
   "outputs": [
    {
     "data": {
      "text/plain": [
       "budget               float64\n",
       "genres                object\n",
       "id                     int64\n",
       "original_language     object\n",
       "popularity           float64\n",
       "release_date          object\n",
       "revenue              float64\n",
       "runtime              float64\n",
       "title                 object\n",
       "vote_average         float64\n",
       "vote_count             int64\n",
       "director              object\n",
       "dtype: object"
      ]
     },
     "execution_count": 5,
     "metadata": {},
     "output_type": "execute_result"
    }
   ],
   "source": [
    "df.dtypes"
   ]
  },
  {
   "cell_type": "code",
   "execution_count": 6,
   "id": "84e536d2",
   "metadata": {},
   "outputs": [
    {
     "data": {
      "text/plain": [
       "0                                      Avatar\n",
       "1    Pirates of the Caribbean: At World's End\n",
       "2                                     Spectre\n",
       "3                       The Dark Knight Rises\n",
       "4                                 John Carter\n",
       "5                                Spider-Man 3\n",
       "6                                     Tangled\n",
       "7                     Avengers: Age of Ultron\n",
       "8      Harry Potter and the Half-Blood Prince\n",
       "9          Batman v Superman: Dawn of Justice\n",
       "Name: title, dtype: object"
      ]
     },
     "execution_count": 6,
     "metadata": {},
     "output_type": "execute_result"
    }
   ],
   "source": [
    "df['title'][0:10]"
   ]
  },
  {
   "cell_type": "code",
   "execution_count": 7,
   "id": "6d27e2b3",
   "metadata": {},
   "outputs": [
    {
     "data": {
      "text/plain": [
       "107.49344221727296"
      ]
     },
     "execution_count": 7,
     "metadata": {},
     "output_type": "execute_result"
    }
   ],
   "source": [
    "df['runtime'].mean()"
   ]
  },
  {
   "cell_type": "code",
   "execution_count": 8,
   "id": "ff846093",
   "metadata": {},
   "outputs": [
    {
     "data": {
      "text/plain": [
       "549.1643753016727"
      ]
     },
     "execution_count": 8,
     "metadata": {},
     "output_type": "execute_result"
    }
   ],
   "source": [
    "df['runtime'].var()"
   ]
  },
  {
   "cell_type": "code",
   "execution_count": 9,
   "id": "2cec494d",
   "metadata": {},
   "outputs": [
    {
     "data": {
      "text/plain": [
       "23.434256448662346"
      ]
     },
     "execution_count": 9,
     "metadata": {},
     "output_type": "execute_result"
    }
   ],
   "source": [
    "df['runtime'].std()"
   ]
  },
  {
   "cell_type": "code",
   "execution_count": 10,
   "id": "edbfd328",
   "metadata": {},
   "outputs": [
    {
     "data": {
      "text/plain": [
       "<matplotlib.collections.PathCollection at 0x25cf9d78d90>"
      ]
     },
     "execution_count": 10,
     "metadata": {},
     "output_type": "execute_result"
    },
    {
     "data": {
      "image/png": "[encoded data removed]",
      "text/plain": [
       "<Figure size 640x480 with 1 Axes>"
      ]
     },
     "metadata": {},
     "output_type": "display_data"
    }
   ],
   "source": [
    "plt.scatter(df['budget'],df['runtime'])"
   ]
  },
  {
   "cell_type": "code",
   "execution_count": 11,
   "id": "1003b16f",
   "metadata": {},
   "outputs": [
    {
     "data": {
      "text/plain": [
       "<matplotlib.collections.PathCollection at 0x25cfd069ed0>"
      ]
     },
     "execution_count": 11,
     "metadata": {},
     "output_type": "execute_result"
    },
    {
     "data": {
      "image/png": "[encoded data removed]",
      "text/plain": [
       "<Figure size 640x480 with 1 Axes>"
      ]
     },
     "metadata": {},
     "output_type": "display_data"
    }
   ],
   "source": [
    "plt.scatter(df['runtime'],df.index)"
   ]
  },
  {
   "cell_type": "code",
   "execution_count": 12,
   "id": "e742407f",
   "metadata": {},
   "outputs": [
    {
     "data": {
      "text/plain": [
       "budget                0\n",
       "genres               28\n",
       "id                    0\n",
       "original_language     0\n",
       "popularity            0\n",
       "release_date          1\n",
       "revenue               0\n",
       "runtime               0\n",
       "title                 0\n",
       "vote_average          0\n",
       "vote_count            0\n",
       "director             36\n",
       "dtype: int64"
      ]
     },
     "execution_count": 12,
     "metadata": {},
     "output_type": "execute_result"
    }
   ],
   "source": [
    "df.isnull().sum()"
   ]
  },
  {
   "cell_type": "code",
   "execution_count": 13,
   "id": "d5232446",
   "metadata": {},
   "outputs": [
    {
     "data": {
      "text/plain": [
       "599"
      ]
     },
     "execution_count": 13,
     "metadata": {},
     "output_type": "execute_result"
    }
   ],
   "source": [
    "df['budget'].value_counts()[0]"
   ]
  },
  {
   "cell_type": "code",
   "execution_count": 14,
   "id": "e1d4c000",
   "metadata": {},
   "outputs": [],
   "source": [
    "df['ROI']=df['revenue']/df['budget']"
   ]
  },
  {
   "cell_type": "code",
   "execution_count": 15,
   "id": "e66e4c5c",
   "metadata": {},
   "outputs": [
    {
     "data": {
      "text/plain": [
       "count    3476.000000\n",
       "mean             inf\n",
       "std              NaN\n",
       "min         0.000000\n",
       "25%         0.827854\n",
       "50%         2.154185\n",
       "75%         4.308609\n",
       "max              inf\n",
       "Name: ROI, dtype: float64"
      ]
     },
     "execution_count": 15,
     "metadata": {},
     "output_type": "execute_result"
    }
   ],
   "source": [
    "df['ROI'].describe()"
   ]
  },
  {
   "cell_type": "code",
   "execution_count": 16,
   "id": "16727681",
   "metadata": {},
   "outputs": [
    {
     "data": {
      "text/html": [
       "<div>\n",
       "<style scoped>\n",
       "    .dataframe tbody tr th:only-of-type {\n",
       "        vertical-align: middle;\n",
       "    }\n",
       "\n",
       "    .dataframe tbody tr th {\n",
       "        vertical-align: top;\n",
       "    }\n",
       "\n",
       "    .dataframe thead th {\n",
       "        text-align: right;\n",
       "    }\n",
       "</style>\n",
       "<table border=\"1\" class=\"dataframe\">\n",
       "  <thead>\n",
       "    <tr style=\"text-align: right;\">\n",
       "      <th></th>\n",
       "      <th>budget</th>\n",
       "      <th>genres</th>\n",
       "      <th>id</th>\n",
       "      <th>original_language</th>\n",
       "      <th>popularity</th>\n",
       "      <th>release_date</th>\n",
       "      <th>revenue</th>\n",
       "      <th>runtime</th>\n",
       "      <th>title</th>\n",
       "      <th>vote_average</th>\n",
       "      <th>vote_count</th>\n",
       "      <th>director</th>\n",
       "      <th>ROI</th>\n",
       "    </tr>\n",
       "  </thead>\n",
       "  <tbody>\n",
       "    <tr>\n",
       "      <th>0</th>\n",
       "      <td>237000000.0</td>\n",
       "      <td>Action Adventure Fantasy Science-Fiction</td>\n",
       "      <td>19995</td>\n",
       "      <td>en</td>\n",
       "      <td>150.437577</td>\n",
       "      <td>10-12-2009</td>\n",
       "      <td>2.787965e+09</td>\n",
       "      <td>162.0</td>\n",
       "      <td>Avatar</td>\n",
       "      <td>7.2</td>\n",
       "      <td>11800</td>\n",
       "      <td>James Cameron</td>\n",
       "      <td>11.763566</td>\n",
       "    </tr>\n",
       "    <tr>\n",
       "      <th>1</th>\n",
       "      <td>300000000.0</td>\n",
       "      <td>Adventure Fantasy Action</td>\n",
       "      <td>285</td>\n",
       "      <td>en</td>\n",
       "      <td>139.082615</td>\n",
       "      <td>19-05-2007</td>\n",
       "      <td>9.610000e+08</td>\n",
       "      <td>169.0</td>\n",
       "      <td>Pirates of the Caribbean: At World's End</td>\n",
       "      <td>6.9</td>\n",
       "      <td>4500</td>\n",
       "      <td>Gore Verbinski</td>\n",
       "      <td>3.203333</td>\n",
       "    </tr>\n",
       "    <tr>\n",
       "      <th>2</th>\n",
       "      <td>245000000.0</td>\n",
       "      <td>Action Adventure Crime</td>\n",
       "      <td>206647</td>\n",
       "      <td>en</td>\n",
       "      <td>107.376788</td>\n",
       "      <td>26-10-2015</td>\n",
       "      <td>8.806746e+08</td>\n",
       "      <td>148.0</td>\n",
       "      <td>Spectre</td>\n",
       "      <td>6.3</td>\n",
       "      <td>4466</td>\n",
       "      <td>Sam Mendes</td>\n",
       "      <td>3.594590</td>\n",
       "    </tr>\n",
       "    <tr>\n",
       "      <th>3</th>\n",
       "      <td>250000000.0</td>\n",
       "      <td>Action Crime Drama Thriller</td>\n",
       "      <td>49026</td>\n",
       "      <td>en</td>\n",
       "      <td>112.312950</td>\n",
       "      <td>16-07-2012</td>\n",
       "      <td>1.084939e+09</td>\n",
       "      <td>165.0</td>\n",
       "      <td>The Dark Knight Rises</td>\n",
       "      <td>7.6</td>\n",
       "      <td>9106</td>\n",
       "      <td>Christopher Nolan</td>\n",
       "      <td>4.339756</td>\n",
       "    </tr>\n",
       "    <tr>\n",
       "      <th>4</th>\n",
       "      <td>260000000.0</td>\n",
       "      <td>Action Adventure Science-Fiction</td>\n",
       "      <td>49529</td>\n",
       "      <td>en</td>\n",
       "      <td>43.926995</td>\n",
       "      <td>07-03-2012</td>\n",
       "      <td>2.841391e+08</td>\n",
       "      <td>132.0</td>\n",
       "      <td>John Carter</td>\n",
       "      <td>6.1</td>\n",
       "      <td>2124</td>\n",
       "      <td>Andrew Stanton</td>\n",
       "      <td>1.092843</td>\n",
       "    </tr>\n",
       "  </tbody>\n",
       "</table>\n",
       "</div>"
      ],
      "text/plain": [
       "        budget                                    genres      id  \\\n",
       "0  237000000.0  Action Adventure Fantasy Science-Fiction   19995   \n",
       "1  300000000.0                  Adventure Fantasy Action     285   \n",
       "2  245000000.0                    Action Adventure Crime  206647   \n",
       "3  250000000.0               Action Crime Drama Thriller   49026   \n",
       "4  260000000.0          Action Adventure Science-Fiction   49529   \n",
       "\n",
       "  original_language  popularity release_date       revenue  runtime  \\\n",
       "0                en  150.437577   10-12-2009  2.787965e+09    162.0   \n",
       "1                en  139.082615   19-05-2007  9.610000e+08    169.0   \n",
       "2                en  107.376788   26-10-2015  8.806746e+08    148.0   \n",
       "3                en  112.312950   16-07-2012  1.084939e+09    165.0   \n",
       "4                en   43.926995   07-03-2012  2.841391e+08    132.0   \n",
       "\n",
       "                                      title  vote_average  vote_count  \\\n",
       "0                                    Avatar           7.2       11800   \n",
       "1  Pirates of the Caribbean: At World's End           6.9        4500   \n",
       "2                                   Spectre           6.3        4466   \n",
       "3                     The Dark Knight Rises           7.6        9106   \n",
       "4                               John Carter           6.1        2124   \n",
       "\n",
       "            director        ROI  \n",
       "0      James Cameron  11.763566  \n",
       "1     Gore Verbinski   3.203333  \n",
       "2         Sam Mendes   3.594590  \n",
       "3  Christopher Nolan   4.339756  \n",
       "4     Andrew Stanton   1.092843  "
      ]
     },
     "execution_count": 16,
     "metadata": {},
     "output_type": "execute_result"
    }
   ],
   "source": [
    "df.head()"
   ]
  },
  {
   "cell_type": "code",
   "execution_count": 17,
   "id": "6f2a0498",
   "metadata": {},
   "outputs": [
    {
     "data": {
      "text/plain": [
       "[<matplotlib.lines.Line2D at 0x25cfd102e90>]"
      ]
     },
     "execution_count": 17,
     "metadata": {},
     "output_type": "execute_result"
    },
    {
     "data": {
      "image/png": "[encoded data removed]",
      "text/plain": [
       "<Figure size 640x480 with 1 Axes>"
      ]
     },
     "metadata": {},
     "output_type": "display_data"
    }
   ],
   "source": [
    "plt.plot(df['revenue'],df.index)"
   ]
  },
  {
   "cell_type": "code",
   "execution_count": 18,
   "id": "adef9195",
   "metadata": {},
   "outputs": [],
   "source": [
    "df = df.sort_values(by='revenue')"
   ]
  },
  {
   "cell_type": "code",
   "execution_count": 19,
   "id": "e61c9d1f",
   "metadata": {},
   "outputs": [
    {
     "data": {
      "text/html": [
       "<div>\n",
       "<style scoped>\n",
       "    .dataframe tbody tr th:only-of-type {\n",
       "        vertical-align: middle;\n",
       "    }\n",
       "\n",
       "    .dataframe tbody tr th {\n",
       "        vertical-align: top;\n",
       "    }\n",
       "\n",
       "    .dataframe thead th {\n",
       "        text-align: right;\n",
       "    }\n",
       "</style>\n",
       "<table border=\"1\" class=\"dataframe\">\n",
       "  <thead>\n",
       "    <tr style=\"text-align: right;\">\n",
       "      <th></th>\n",
       "      <th>budget</th>\n",
       "      <th>genres</th>\n",
       "      <th>id</th>\n",
       "      <th>original_language</th>\n",
       "      <th>popularity</th>\n",
       "      <th>release_date</th>\n",
       "      <th>revenue</th>\n",
       "      <th>runtime</th>\n",
       "      <th>title</th>\n",
       "      <th>vote_average</th>\n",
       "      <th>vote_count</th>\n",
       "      <th>director</th>\n",
       "      <th>ROI</th>\n",
       "    </tr>\n",
       "  </thead>\n",
       "  <tbody>\n",
       "    <tr>\n",
       "      <th>2020</th>\n",
       "      <td>0.0</td>\n",
       "      <td>Animation</td>\n",
       "      <td>239897</td>\n",
       "      <td>en</td>\n",
       "      <td>0.485405</td>\n",
       "      <td>24-01-2014</td>\n",
       "      <td>0.0</td>\n",
       "      <td>98.0</td>\n",
       "      <td>Dwegons</td>\n",
       "      <td>0.5</td>\n",
       "      <td>1</td>\n",
       "      <td>Tom Walsh</td>\n",
       "      <td>NaN</td>\n",
       "    </tr>\n",
       "    <tr>\n",
       "      <th>3099</th>\n",
       "      <td>5000000.0</td>\n",
       "      <td>Family Animation</td>\n",
       "      <td>292481</td>\n",
       "      <td>en</td>\n",
       "      <td>0.999655</td>\n",
       "      <td>18-08-2014</td>\n",
       "      <td>0.0</td>\n",
       "      <td>67.0</td>\n",
       "      <td>Henry &amp; Me</td>\n",
       "      <td>3.0</td>\n",
       "      <td>3</td>\n",
       "      <td>Barrett Esposito</td>\n",
       "      <td>0.0</td>\n",
       "    </tr>\n",
       "    <tr>\n",
       "      <th>3098</th>\n",
       "      <td>0.0</td>\n",
       "      <td>Drama</td>\n",
       "      <td>19615</td>\n",
       "      <td>en</td>\n",
       "      <td>1.546169</td>\n",
       "      <td>01-01-2009</td>\n",
       "      <td>0.0</td>\n",
       "      <td>95.0</td>\n",
       "      <td>Flying By</td>\n",
       "      <td>7.0</td>\n",
       "      <td>2</td>\n",
       "      <td>NaN</td>\n",
       "      <td>NaN</td>\n",
       "    </tr>\n",
       "    <tr>\n",
       "      <th>3097</th>\n",
       "      <td>0.0</td>\n",
       "      <td>Comedy Documentary</td>\n",
       "      <td>12486</td>\n",
       "      <td>en</td>\n",
       "      <td>1.963219</td>\n",
       "      <td>01-12-2006</td>\n",
       "      <td>0.0</td>\n",
       "      <td>80.0</td>\n",
       "      <td>Farce of the Penguins</td>\n",
       "      <td>3.2</td>\n",
       "      <td>13</td>\n",
       "      <td>Bob Saget</td>\n",
       "      <td>NaN</td>\n",
       "    </tr>\n",
       "    <tr>\n",
       "      <th>3096</th>\n",
       "      <td>0.0</td>\n",
       "      <td>Romance Thriller</td>\n",
       "      <td>71547</td>\n",
       "      <td>de</td>\n",
       "      <td>0.219799</td>\n",
       "      <td>13-10-2004</td>\n",
       "      <td>0.0</td>\n",
       "      <td>95.0</td>\n",
       "      <td>Fascination</td>\n",
       "      <td>3.8</td>\n",
       "      <td>4</td>\n",
       "      <td>Klaus Menzel</td>\n",
       "      <td>NaN</td>\n",
       "    </tr>\n",
       "  </tbody>\n",
       "</table>\n",
       "</div>"
      ],
      "text/plain": [
       "         budget              genres      id original_language  popularity  \\\n",
       "2020        0.0           Animation  239897                en    0.485405   \n",
       "3099  5000000.0    Family Animation  292481                en    0.999655   \n",
       "3098        0.0               Drama   19615                en    1.546169   \n",
       "3097        0.0  Comedy Documentary   12486                en    1.963219   \n",
       "3096        0.0    Romance Thriller   71547                de    0.219799   \n",
       "\n",
       "     release_date  revenue  runtime                  title  vote_average  \\\n",
       "2020   24-01-2014      0.0     98.0                Dwegons           0.5   \n",
       "3099   18-08-2014      0.0     67.0             Henry & Me           3.0   \n",
       "3098   01-01-2009      0.0     95.0              Flying By           7.0   \n",
       "3097   01-12-2006      0.0     80.0  Farce of the Penguins           3.2   \n",
       "3096   13-10-2004      0.0     95.0            Fascination           3.8   \n",
       "\n",
       "      vote_count          director  ROI  \n",
       "2020           1         Tom Walsh  NaN  \n",
       "3099           3  Barrett Esposito  0.0  \n",
       "3098           2               NaN  NaN  \n",
       "3097          13         Bob Saget  NaN  \n",
       "3096           4      Klaus Menzel  NaN  "
      ]
     },
     "execution_count": 19,
     "metadata": {},
     "output_type": "execute_result"
    }
   ],
   "source": [
    "df.head()"
   ]
  },
  {
   "cell_type": "code",
   "execution_count": 20,
   "id": "322ce821",
   "metadata": {},
   "outputs": [],
   "source": [
    "tempindex = {x for x in range(0,len(df.index))}\n",
    "index = pd.DataFrame(tempindex)"
   ]
  },
  {
   "cell_type": "code",
   "execution_count": 21,
   "id": "0b802d77",
   "metadata": {},
   "outputs": [
    {
     "data": {
      "text/plain": [
       "[<matplotlib.lines.Line2D at 0x25cfaf88fa0>]"
      ]
     },
     "execution_count": 21,
     "metadata": {},
     "output_type": "execute_result"
    },
    {
     "data": {
      "image/png": "[encoded data removed]",
      "text/plain": [
       "<Figure size 640x480 with 1 Axes>"
      ]
     },
     "metadata": {},
     "output_type": "display_data"
    }
   ],
   "source": [
    "plt.plot(df['revenue'],index)"
   ]
  },
  {
   "cell_type": "code",
   "execution_count": 22,
   "id": "4c9267f5",
   "metadata": {},
   "outputs": [
    {
     "data": {
      "text/html": [
       "<div>\n",
       "<style scoped>\n",
       "    .dataframe tbody tr th:only-of-type {\n",
       "        vertical-align: middle;\n",
       "    }\n",
       "\n",
       "    .dataframe tbody tr th {\n",
       "        vertical-align: top;\n",
       "    }\n",
       "\n",
       "    .dataframe thead th {\n",
       "        text-align: right;\n",
       "    }\n",
       "</style>\n",
       "<table border=\"1\" class=\"dataframe\">\n",
       "  <thead>\n",
       "    <tr style=\"text-align: right;\">\n",
       "      <th></th>\n",
       "      <th>budget</th>\n",
       "      <th>genres</th>\n",
       "      <th>id</th>\n",
       "      <th>original_language</th>\n",
       "      <th>popularity</th>\n",
       "      <th>release_date</th>\n",
       "      <th>revenue</th>\n",
       "      <th>runtime</th>\n",
       "      <th>title</th>\n",
       "      <th>vote_average</th>\n",
       "      <th>vote_count</th>\n",
       "      <th>director</th>\n",
       "      <th>ROI</th>\n",
       "    </tr>\n",
       "  </thead>\n",
       "  <tbody>\n",
       "    <tr>\n",
       "      <th>2020</th>\n",
       "      <td>0.0</td>\n",
       "      <td>Animation</td>\n",
       "      <td>239897</td>\n",
       "      <td>en</td>\n",
       "      <td>0.485405</td>\n",
       "      <td>24-01-2014</td>\n",
       "      <td>0.0</td>\n",
       "      <td>98.0</td>\n",
       "      <td>Dwegons</td>\n",
       "      <td>0.5</td>\n",
       "      <td>1</td>\n",
       "      <td>Tom Walsh</td>\n",
       "      <td>NaN</td>\n",
       "    </tr>\n",
       "    <tr>\n",
       "      <th>3099</th>\n",
       "      <td>5000000.0</td>\n",
       "      <td>Family Animation</td>\n",
       "      <td>292481</td>\n",
       "      <td>en</td>\n",
       "      <td>0.999655</td>\n",
       "      <td>18-08-2014</td>\n",
       "      <td>0.0</td>\n",
       "      <td>67.0</td>\n",
       "      <td>Henry &amp; Me</td>\n",
       "      <td>3.0</td>\n",
       "      <td>3</td>\n",
       "      <td>Barrett Esposito</td>\n",
       "      <td>0.0</td>\n",
       "    </tr>\n",
       "    <tr>\n",
       "      <th>3098</th>\n",
       "      <td>0.0</td>\n",
       "      <td>Drama</td>\n",
       "      <td>19615</td>\n",
       "      <td>en</td>\n",
       "      <td>1.546169</td>\n",
       "      <td>01-01-2009</td>\n",
       "      <td>0.0</td>\n",
       "      <td>95.0</td>\n",
       "      <td>Flying By</td>\n",
       "      <td>7.0</td>\n",
       "      <td>2</td>\n",
       "      <td>NaN</td>\n",
       "      <td>NaN</td>\n",
       "    </tr>\n",
       "    <tr>\n",
       "      <th>3097</th>\n",
       "      <td>0.0</td>\n",
       "      <td>Comedy Documentary</td>\n",
       "      <td>12486</td>\n",
       "      <td>en</td>\n",
       "      <td>1.963219</td>\n",
       "      <td>01-12-2006</td>\n",
       "      <td>0.0</td>\n",
       "      <td>80.0</td>\n",
       "      <td>Farce of the Penguins</td>\n",
       "      <td>3.2</td>\n",
       "      <td>13</td>\n",
       "      <td>Bob Saget</td>\n",
       "      <td>NaN</td>\n",
       "    </tr>\n",
       "    <tr>\n",
       "      <th>3096</th>\n",
       "      <td>0.0</td>\n",
       "      <td>Romance Thriller</td>\n",
       "      <td>71547</td>\n",
       "      <td>de</td>\n",
       "      <td>0.219799</td>\n",
       "      <td>13-10-2004</td>\n",
       "      <td>0.0</td>\n",
       "      <td>95.0</td>\n",
       "      <td>Fascination</td>\n",
       "      <td>3.8</td>\n",
       "      <td>4</td>\n",
       "      <td>Klaus Menzel</td>\n",
       "      <td>NaN</td>\n",
       "    </tr>\n",
       "  </tbody>\n",
       "</table>\n",
       "</div>"
      ],
      "text/plain": [
       "         budget              genres      id original_language  popularity  \\\n",
       "2020        0.0           Animation  239897                en    0.485405   \n",
       "3099  5000000.0    Family Animation  292481                en    0.999655   \n",
       "3098        0.0               Drama   19615                en    1.546169   \n",
       "3097        0.0  Comedy Documentary   12486                en    1.963219   \n",
       "3096        0.0    Romance Thriller   71547                de    0.219799   \n",
       "\n",
       "     release_date  revenue  runtime                  title  vote_average  \\\n",
       "2020   24-01-2014      0.0     98.0                Dwegons           0.5   \n",
       "3099   18-08-2014      0.0     67.0             Henry & Me           3.0   \n",
       "3098   01-01-2009      0.0     95.0              Flying By           7.0   \n",
       "3097   01-12-2006      0.0     80.0  Farce of the Penguins           3.2   \n",
       "3096   13-10-2004      0.0     95.0            Fascination           3.8   \n",
       "\n",
       "      vote_count          director  ROI  \n",
       "2020           1         Tom Walsh  NaN  \n",
       "3099           3  Barrett Esposito  0.0  \n",
       "3098           2               NaN  NaN  \n",
       "3097          13         Bob Saget  NaN  \n",
       "3096           4      Klaus Menzel  NaN  "
      ]
     },
     "execution_count": 22,
     "metadata": {},
     "output_type": "execute_result"
    }
   ],
   "source": [
    "df.head()"
   ]
  },
  {
   "cell_type": "code",
   "execution_count": 23,
   "id": "fb56f241",
   "metadata": {},
   "outputs": [],
   "source": [
    "df['genres'] = df['genres'].str.split()"
   ]
  },
  {
   "cell_type": "code",
   "execution_count": 24,
   "id": "98af2953",
   "metadata": {},
   "outputs": [
    {
     "data": {
      "text/plain": [
       "2020              [Animation]\n",
       "3099      [Family, Animation]\n",
       "3098                  [Drama]\n",
       "3097    [Comedy, Documentary]\n",
       "3096      [Romance, Thriller]\n",
       "Name: genres, dtype: object"
      ]
     },
     "execution_count": 24,
     "metadata": {},
     "output_type": "execute_result"
    }
   ],
   "source": [
    "df['genres'].head()"
   ]
  },
  {
   "cell_type": "code",
   "execution_count": null,
   "id": "afc0b023",
   "metadata": {},
   "outputs": [],
   "source": []
  }
 ],
 "metadata": {
  "kernelspec": {
   "display_name": "Python 3 (ipykernel)",
   "language": "python",
   "name": "python3"
  },
  "language_info": {
   "codemirror_mode": {
    "name": "ipython",
    "version": 3
   },
   "file_extension": ".py",
   "mimetype": "text/x-python",
   "name": "python",
   "nbconvert_exporter": "python",
   "pygments_lexer": "ipython3",
   "version": "3.10.2"
  }
 },
 "nbformat": 4,
 "nbformat_minor": 5
}
