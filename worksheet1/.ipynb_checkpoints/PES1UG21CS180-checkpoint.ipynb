{
 "cells": [
  {
   "cell_type": "code",
   "execution_count": 1,
   "id": "f4c681b5",
   "metadata": {},
   "outputs": [],
   "source": [
    "import numpy as np\n",
    "import pandas as pd;\n",
    "import matplotlib.pyplot as plt\n"
   ]
  },
  {
   "cell_type": "code",
   "execution_count": 2,
   "id": "4a356df3",
   "metadata": {},
   "outputs": [],
   "source": [
    "# problem 1\n",
    "df = pd.read_csv('movie_dataset.csv')"
   ]
  },
  {
   "cell_type": "code",
   "execution_count": 3,
   "id": "9238bda0",
   "metadata": {},
   "outputs": [
    {
     "data": {
      "text/html": [
       "<div>\n",
       "<style scoped>\n",
       "    .dataframe tbody tr th:only-of-type {\n",
       "        vertical-align: middle;\n",
       "    }\n",
       "\n",
       "    .dataframe tbody tr th {\n",
       "        vertical-align: top;\n",
       "    }\n",
       "\n",
       "    .dataframe thead th {\n",
       "        text-align: right;\n",
       "    }\n",
       "</style>\n",
       "<table border=\"1\" class=\"dataframe\">\n",
       "  <thead>\n",
       "    <tr style=\"text-align: right;\">\n",
       "      <th></th>\n",
       "      <th>budget</th>\n",
       "      <th>id</th>\n",
       "      <th>popularity</th>\n",
       "      <th>revenue</th>\n",
       "      <th>runtime</th>\n",
       "      <th>vote_average</th>\n",
       "      <th>vote_count</th>\n",
       "    </tr>\n",
       "  </thead>\n",
       "  <tbody>\n",
       "    <tr>\n",
       "      <th>count</th>\n",
       "      <td>4.041000e+03</td>\n",
       "      <td>4041.000000</td>\n",
       "      <td>4041.000000</td>\n",
       "      <td>4.041000e+03</td>\n",
       "      <td>4041.000000</td>\n",
       "      <td>4041.000000</td>\n",
       "      <td>4041.000000</td>\n",
       "    </tr>\n",
       "    <tr>\n",
       "      <th>mean</th>\n",
       "      <td>3.285372e+07</td>\n",
       "      <td>57982.927988</td>\n",
       "      <td>23.492294</td>\n",
       "      <td>9.695165e+07</td>\n",
       "      <td>107.493442</td>\n",
       "      <td>6.092551</td>\n",
       "      <td>784.679782</td>\n",
       "    </tr>\n",
       "    <tr>\n",
       "      <th>std</th>\n",
       "      <td>4.271586e+07</td>\n",
       "      <td>89651.272534</td>\n",
       "      <td>34.168782</td>\n",
       "      <td>1.734437e+08</td>\n",
       "      <td>23.434256</td>\n",
       "      <td>1.242561</td>\n",
       "      <td>1321.321087</td>\n",
       "    </tr>\n",
       "    <tr>\n",
       "      <th>min</th>\n",
       "      <td>0.000000e+00</td>\n",
       "      <td>5.000000</td>\n",
       "      <td>0.000000</td>\n",
       "      <td>0.000000e+00</td>\n",
       "      <td>0.000000</td>\n",
       "      <td>0.000000</td>\n",
       "      <td>0.000000</td>\n",
       "    </tr>\n",
       "    <tr>\n",
       "      <th>25%</th>\n",
       "      <td>3.000000e+06</td>\n",
       "      <td>8536.000000</td>\n",
       "      <td>3.674294</td>\n",
       "      <td>2.154540e+06</td>\n",
       "      <td>94.000000</td>\n",
       "      <td>5.600000</td>\n",
       "      <td>49.000000</td>\n",
       "    </tr>\n",
       "    <tr>\n",
       "      <th>50%</th>\n",
       "      <td>1.800000e+07</td>\n",
       "      <td>14914.000000</td>\n",
       "      <td>15.131867</td>\n",
       "      <td>3.264555e+07</td>\n",
       "      <td>104.000000</td>\n",
       "      <td>6.200000</td>\n",
       "      <td>299.000000</td>\n",
       "    </tr>\n",
       "    <tr>\n",
       "      <th>75%</th>\n",
       "      <td>4.500000e+07</td>\n",
       "      <td>60420.000000</td>\n",
       "      <td>31.893932</td>\n",
       "      <td>1.133741e+08</td>\n",
       "      <td>119.000000</td>\n",
       "      <td>6.800000</td>\n",
       "      <td>890.000000</td>\n",
       "    </tr>\n",
       "    <tr>\n",
       "      <th>max</th>\n",
       "      <td>3.800000e+08</td>\n",
       "      <td>459488.000000</td>\n",
       "      <td>875.581305</td>\n",
       "      <td>2.787965e+09</td>\n",
       "      <td>338.000000</td>\n",
       "      <td>10.000000</td>\n",
       "      <td>13752.000000</td>\n",
       "    </tr>\n",
       "  </tbody>\n",
       "</table>\n",
       "</div>"
      ],
      "text/plain": [
       "             budget             id   popularity       revenue      runtime  \\\n",
       "count  4.041000e+03    4041.000000  4041.000000  4.041000e+03  4041.000000   \n",
       "mean   3.285372e+07   57982.927988    23.492294  9.695165e+07   107.493442   \n",
       "std    4.271586e+07   89651.272534    34.168782  1.734437e+08    23.434256   \n",
       "min    0.000000e+00       5.000000     0.000000  0.000000e+00     0.000000   \n",
       "25%    3.000000e+06    8536.000000     3.674294  2.154540e+06    94.000000   \n",
       "50%    1.800000e+07   14914.000000    15.131867  3.264555e+07   104.000000   \n",
       "75%    4.500000e+07   60420.000000    31.893932  1.133741e+08   119.000000   \n",
       "max    3.800000e+08  459488.000000   875.581305  2.787965e+09   338.000000   \n",
       "\n",
       "       vote_average    vote_count  \n",
       "count   4041.000000   4041.000000  \n",
       "mean       6.092551    784.679782  \n",
       "std        1.242561   1321.321087  \n",
       "min        0.000000      0.000000  \n",
       "25%        5.600000     49.000000  \n",
       "50%        6.200000    299.000000  \n",
       "75%        6.800000    890.000000  \n",
       "max       10.000000  13752.000000  "
      ]
     },
     "execution_count": 3,
     "metadata": {},
     "output_type": "execute_result"
    }
   ],
   "source": [
    "df.describe()"
   ]
  },
  {
   "cell_type": "code",
   "execution_count": 4,
   "id": "f4d2b41d",
   "metadata": {},
   "outputs": [
    {
     "data": {
      "text/plain": [
       "budget               float64\n",
       "genres                object\n",
       "id                     int64\n",
       "original_language     object\n",
       "popularity           float64\n",
       "release_date          object\n",
       "revenue              float64\n",
       "runtime              float64\n",
       "title                 object\n",
       "vote_average         float64\n",
       "vote_count             int64\n",
       "director              object\n",
       "dtype: object"
      ]
     },
     "execution_count": 4,
     "metadata": {},
     "output_type": "execute_result"
    }
   ],
   "source": [
    "df.dtypes"
   ]
  },
  {
   "cell_type": "code",
   "execution_count": 10,
   "id": "f6b67afe",
   "metadata": {},
   "outputs": [
    {
     "data": {
      "text/plain": [
       "budget                0\n",
       "genres               28\n",
       "id                    0\n",
       "original_language     0\n",
       "popularity            0\n",
       "release_date          1\n",
       "revenue               0\n",
       "runtime               0\n",
       "title                 0\n",
       "vote_average          0\n",
       "vote_count            0\n",
       "director             36\n",
       "dtype: int64"
      ]
     },
     "execution_count": 10,
     "metadata": {},
     "output_type": "execute_result"
    }
   ],
   "source": [
    "# problem 2\n",
    "df.isna().sum()"
   ]
  },
  {
   "cell_type": "code",
   "execution_count": 11,
   "id": "915db10d",
   "metadata": {},
   "outputs": [
    {
     "data": {
      "text/plain": [
       "budget                0\n",
       "genres               28\n",
       "id                    0\n",
       "original_language     0\n",
       "popularity            0\n",
       "release_date          1\n",
       "revenue               0\n",
       "runtime               0\n",
       "title                 0\n",
       "vote_average          0\n",
       "vote_count            0\n",
       "director             36\n",
       "dtype: int64"
      ]
     },
     "execution_count": 11,
     "metadata": {},
     "output_type": "execute_result"
    }
   ],
   "source": []
  },
  {
   "cell_type": "code",
   "execution_count": 25,
   "id": "5a1df7a4",
   "metadata": {},
   "outputs": [
    {
     "data": {
      "text/html": [
       "<div>\n",
       "<style scoped>\n",
       "    .dataframe tbody tr th:only-of-type {\n",
       "        vertical-align: middle;\n",
       "    }\n",
       "\n",
       "    .dataframe tbody tr th {\n",
       "        vertical-align: top;\n",
       "    }\n",
       "\n",
       "    .dataframe thead th {\n",
       "        text-align: right;\n",
       "    }\n",
       "</style>\n",
       "<table border=\"1\" class=\"dataframe\">\n",
       "  <thead>\n",
       "    <tr style=\"text-align: right;\">\n",
       "      <th></th>\n",
       "      <th>original_language</th>\n",
       "      <th>genres</th>\n",
       "      <th>title</th>\n",
       "      <th>director</th>\n",
       "    </tr>\n",
       "  </thead>\n",
       "  <tbody>\n",
       "    <tr>\n",
       "      <th>0</th>\n",
       "      <td>False</td>\n",
       "      <td>False</td>\n",
       "      <td>False</td>\n",
       "      <td>False</td>\n",
       "    </tr>\n",
       "    <tr>\n",
       "      <th>1</th>\n",
       "      <td>False</td>\n",
       "      <td>False</td>\n",
       "      <td>False</td>\n",
       "      <td>False</td>\n",
       "    </tr>\n",
       "    <tr>\n",
       "      <th>2</th>\n",
       "      <td>False</td>\n",
       "      <td>False</td>\n",
       "      <td>False</td>\n",
       "      <td>False</td>\n",
       "    </tr>\n",
       "    <tr>\n",
       "      <th>3</th>\n",
       "      <td>False</td>\n",
       "      <td>False</td>\n",
       "      <td>False</td>\n",
       "      <td>False</td>\n",
       "    </tr>\n",
       "    <tr>\n",
       "      <th>4</th>\n",
       "      <td>False</td>\n",
       "      <td>False</td>\n",
       "      <td>False</td>\n",
       "      <td>False</td>\n",
       "    </tr>\n",
       "    <tr>\n",
       "      <th>...</th>\n",
       "      <td>...</td>\n",
       "      <td>...</td>\n",
       "      <td>...</td>\n",
       "      <td>...</td>\n",
       "    </tr>\n",
       "    <tr>\n",
       "      <th>4036</th>\n",
       "      <td>False</td>\n",
       "      <td>False</td>\n",
       "      <td>False</td>\n",
       "      <td>False</td>\n",
       "    </tr>\n",
       "    <tr>\n",
       "      <th>4037</th>\n",
       "      <td>False</td>\n",
       "      <td>False</td>\n",
       "      <td>False</td>\n",
       "      <td>False</td>\n",
       "    </tr>\n",
       "    <tr>\n",
       "      <th>4038</th>\n",
       "      <td>False</td>\n",
       "      <td>False</td>\n",
       "      <td>False</td>\n",
       "      <td>False</td>\n",
       "    </tr>\n",
       "    <tr>\n",
       "      <th>4039</th>\n",
       "      <td>False</td>\n",
       "      <td>False</td>\n",
       "      <td>False</td>\n",
       "      <td>False</td>\n",
       "    </tr>\n",
       "    <tr>\n",
       "      <th>4040</th>\n",
       "      <td>False</td>\n",
       "      <td>False</td>\n",
       "      <td>False</td>\n",
       "      <td>False</td>\n",
       "    </tr>\n",
       "  </tbody>\n",
       "</table>\n",
       "<p>4041 rows × 4 columns</p>\n",
       "</div>"
      ],
      "text/plain": [
       "      original_language  genres  title  director\n",
       "0                 False   False  False     False\n",
       "1                 False   False  False     False\n",
       "2                 False   False  False     False\n",
       "3                 False   False  False     False\n",
       "4                 False   False  False     False\n",
       "...                 ...     ...    ...       ...\n",
       "4036              False   False  False     False\n",
       "4037              False   False  False     False\n",
       "4038              False   False  False     False\n",
       "4039              False   False  False     False\n",
       "4040              False   False  False     False\n",
       "\n",
       "[4041 rows x 4 columns]"
      ]
     },
     "execution_count": 25,
     "metadata": {},
     "output_type": "execute_result"
    }
   ],
   "source": [
    "empty = df[['original_language','genres','title','director']].apply(lambda x:x==\"\")\n",
    "empty"
   ]
  },
  {
   "cell_type": "code",
   "execution_count": 26,
   "id": "2e035117",
   "metadata": {},
   "outputs": [
    {
     "data": {
      "text/plain": [
       "original_language  genres  title  director\n",
       "False              False   False  False       4041\n",
       "dtype: int64"
      ]
     },
     "execution_count": 26,
     "metadata": {},
     "output_type": "execute_result"
    }
   ],
   "source": [
    "empty.value_counts()"
   ]
  },
  {
   "cell_type": "code",
   "execution_count": 43,
   "id": "1bc39c55",
   "metadata": {},
   "outputs": [],
   "source": [
    "# problem 3\n",
    "df['year'] = df['release_date'].apply(lambda x:x.split('-',2)[2] if pd.notnull(x) else None)"
   ]
  },
  {
   "cell_type": "code",
   "execution_count": 47,
   "id": "1cdaa9e8",
   "metadata": {},
   "outputs": [
    {
     "data": {
      "text/plain": [
       "0    2009\n",
       "1    2007\n",
       "2    2015\n",
       "3    2012\n",
       "4    2012\n",
       "Name: year, dtype: object"
      ]
     },
     "execution_count": 47,
     "metadata": {},
     "output_type": "execute_result"
    }
   ],
   "source": [
    "df['year'].head()"
   ]
  },
  {
   "cell_type": "code",
   "execution_count": 61,
   "id": "f222160e",
   "metadata": {},
   "outputs": [
    {
     "data": {
      "text/plain": [
       "2006    205\n",
       "2013    200\n",
       "2009    197\n",
       "2011    196\n",
       "2014    196\n",
       "       ... \n",
       "1935      1\n",
       "1927      1\n",
       "1916      1\n",
       "1934      1\n",
       "1925      1\n",
       "Name: year, Length: 90, dtype: int64"
      ]
     },
     "execution_count": 61,
     "metadata": {},
     "output_type": "execute_result"
    }
   ],
   "source": [
    "df['year'].value_counts()"
   ]
  },
  {
   "cell_type": "code",
   "execution_count": 62,
   "id": "8ba99fa2",
   "metadata": {},
   "outputs": [
    {
     "data": {
      "text/plain": [
       "<matplotlib.collections.PathCollection at 0x16ba4630640>"
      ]
     },
     "execution_count": 62,
     "metadata": {},
     "output_type": "execute_result"
    },
    {
     "data": {
      "image/png": "[encoded data removed]",
      "text/plain": [
       "<Figure size 640x480 with 1 Axes>"
      ]
     },
     "metadata": {},
     "output_type": "display_data"
    }
   ],
   "source": [
    "plt.scatter(df['year'].value_counts().index,df['year'].value_counts().values)"
   ]
  },
  {
   "cell_type": "code",
   "execution_count": 67,
   "id": "634ba2c9",
   "metadata": {},
   "outputs": [
    {
     "data": {
      "text/plain": [
       "{'whiskers': [<matplotlib.lines.Line2D at 0x16ba46ba230>,\n",
       "  <matplotlib.lines.Line2D at 0x16ba46ba4d0>],\n",
       " 'caps': [<matplotlib.lines.Line2D at 0x16ba46ba770>,\n",
       "  <matplotlib.lines.Line2D at 0x16ba46baa10>],\n",
       " 'boxes': [<matplotlib.lines.Line2D at 0x16ba46b9f90>],\n",
       " 'medians': [<matplotlib.lines.Line2D at 0x16ba46bacb0>],\n",
       " 'fliers': [<matplotlib.lines.Line2D at 0x16ba46baf50>],\n",
       " 'means': []}"
      ]
     },
     "execution_count": 67,
     "metadata": {},
     "output_type": "execute_result"
    },
    {
     "data": {
      "image/png": "[encoded data removed]",
      "text/plain": [
       "<Figure size 640x480 with 1 Axes>"
      ]
     },
     "metadata": {},
     "output_type": "display_data"
    }
   ],
   "source": [
    "plt.boxplot(df['runtime'],vert=False)"
   ]
  },
  {
   "cell_type": "code",
   "execution_count": null,
   "id": "348aef63",
   "metadata": {},
   "outputs": [],
   "source": []
  }
 ],
 "metadata": {
  "kernelspec": {
   "display_name": "Python 3 (ipykernel)",
   "language": "python",
   "name": "python3"
  },
  "language_info": {
   "codemirror_mode": {
    "name": "ipython",
    "version": 3
   },
   "file_extension": ".py",
   "mimetype": "text/x-python",
   "name": "python",
   "nbconvert_exporter": "python",
   "pygments_lexer": "ipython3",
   "version": "3.10.2"
  }
 },
 "nbformat": 4,
 "nbformat_minor": 5
}
